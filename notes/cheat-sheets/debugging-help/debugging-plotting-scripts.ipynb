{
  "nbformat": 4,
  "nbformat_minor": 0,
  "metadata": {
    "colab": {
      "name": "debugging-plotting-scripts.ipynb",
      "provenance": [],
      "collapsed_sections": [],
      "authorship_tag": "ABX9TyOTwJGbP4JDdsIe0WhsVJyn",
      "include_colab_link": true
    },
    "kernelspec": {
      "name": "python3",
      "display_name": "Python 3"
    }
  },
  "cells": [
    {
      "cell_type": "markdown",
      "metadata": {
        "id": "view-in-github",
        "colab_type": "text"
      },
      "source": [
        "<a href=\"https://colab.research.google.com/github/eda-ricercatore/gulyas-scripts/blob/master/notes/cheat-sheets/debugging-help/debugging-plotting-scripts.ipynb\" target=\"_parent\"><img src=\"https://colab.research.google.com/assets/colab-badge.svg\" alt=\"Open In Colab\"/></a>"
      ]
    },
    {
      "cell_type": "markdown",
      "metadata": {
        "id": "x5_ZYyNCb2mZ",
        "colab_type": "text"
      },
      "source": [
        "# Debugging/Troubleshooting Scripts for Plotting\n",
        "\n",
        "This is a summary of problems that I had in plotting data, functions, and other information.\n",
        "\n",
        "We organize this Jupyter notebook for specific categories of mistakes and problems \n"
      ]
    },
    {
      "cell_type": "markdown",
      "metadata": {
        "id": "gROaKjtLeh73",
        "colab_type": "text"
      },
      "source": [
        "## Scale of Axes, Zooming In/Out\n",
        "\n",
        "Do not scale the axes, or zoom in so much, that I cannot see the entire plot.\n",
        "\n",
        "Examples of such mistakes are described as follows.\n",
        "\n",
        "\n",
        "Scale the axes (in 2-D or 3-D, or dynamic/animated plot) such that the frame is cannot adequately encompass:\n",
        "+ all the data points\n",
        "+ all the critical points of a function\n",
        "+ all the critical features of a plane\n",
        "+ all the critical features of a [polyhedron](https://en.wikipedia.org/wiki/Polyhedron)\n",
        "+ all the critical features of a [*n*-dimensional polytope (generalization of 3-D polyhedra)](https://en.wikipedia.org/wiki/Polytope)\n",
        "+ all the critical features of another [geometric object](https://en.wikipedia.org/wiki/Mathematical_object)\n",
        "+ all the critical features of a set of geometric objects\n",
        "\n",
        "\n",
        "> Indented block\n",
        "\n"
      ]
    },
    {
      "cell_type": "code",
      "metadata": {
        "id": "DBwYg7XNrKMf",
        "colab_type": "code",
        "colab": {}
      },
      "source": [
        "# Preamble... Setting up the environment/workflow.\n",
        "# Importing Python packages from Python Libraries\n",
        "import matplotlib.pyplot as plt\n",
        "import numpy as np\n",
        "\n",
        "\"\"\"\n",
        "    Set up the 2-D space for graph plotting.\n",
        "    Can be extended to 3 dimensions, or \"n\" dimensions.\n",
        "\"\"\"\n",
        "w1 = np.linspace(-1.0, 1.0, 100)\n",
        "w2 = np.linspace(-1.0, 1.0, 100)\n",
        "W_1, W_2 = np.meshgrid(w1,w2)"
      ],
      "execution_count": 0,
      "outputs": []
    },
    {
      "cell_type": "markdown",
      "metadata": {
        "id": "Nq6w79WxrQYG",
        "colab_type": "text"
      },
      "source": [
        "### Equation of a circle\n",
        "\n",
        "The [equation of a circle](https://www.mathsisfun.com/algebra/circle-equations.html) is described as:\n",
        "\n",
        "$(x−a)^2 + (y−b)^2 = r$,\n",
        "\n",
        "where $(a,b)$ refers to the location of the center of the circle, $r$ refers the radius of the circle, and $x$ and $y$ are the $x-y$ dimensions of the 2-D plane.\n",
        "\n",
        "\n",
        "An example of a circle is plotted out of scope and within the scope of the specified 2-D space for plotting."
      ]
    },
    {
      "cell_type": "code",
      "metadata": {
        "id": "ydq-sWlgP4cA",
        "colab_type": "code",
        "outputId": "ec57eb87-1c89-44bf-c1e8-ef192f016fea",
        "colab": {
          "base_uri": "https://localhost:8080/",
          "height": 321
        }
      },
      "source": [
        "\"\"\"\n",
        "    Set up the 2-D space for graph plotting.\n",
        "    This scope for graph plotting is out of scope.\n",
        "\"\"\"\n",
        "w1 = np.linspace(-1.0, 1.0, 100)\n",
        "w2 = np.linspace(-1.0, 1.0, 100)\n",
        "W_1, W_2 = np.meshgrid(w1,w2)\n",
        "# Constant representing the radius of the (w_1, w_2) circle.\n",
        "t = 1\n",
        "# Equation representing L2 regularization.\n",
        "circle = (W_1-20)**2 + (W_2-30)**2 - t\n",
        "print(\"Plotting a circle out of scope.\")\n",
        "plt.contour(W_1,W_2,circle,[0])\n",
        "plt.show()\n"
      ],
      "execution_count": 0,
      "outputs": [
        {
          "output_type": "stream",
          "text": [
            "Plotting a circle out of scope.\n"
          ],
          "name": "stdout"
        },
        {
          "output_type": "stream",
          "text": [
            "/usr/local/lib/python3.6/dist-packages/ipykernel_launcher.py:13: UserWarning: No contour levels were found within the data range.\n",
            "  del sys.path[0]\n"
          ],
          "name": "stderr"
        },
        {
          "output_type": "display_data",
          "data": {
            "image/png": "[encoded data removed]",
            "text/plain": [
              "<Figure size 432x288 with 1 Axes>"
            ]
          },
          "metadata": {
            "tags": [],
            "needs_background": "light"
          }
        }
      ]
    },
    {
      "cell_type": "code",
      "metadata": {
        "id": "SQAAkGABmhfz",
        "colab_type": "code",
        "outputId": "698b2faa-c790-479b-dc85-38c308892194",
        "colab": {
          "base_uri": "https://localhost:8080/",
          "height": 304
        }
      },
      "source": [
        "\"\"\"\n",
        "    Shift the 2-D space for graph plotting by centering on the circle.\n",
        "    This scope for graph plotting is now centered on the circle,\n",
        "        so that we can see the circle within the specified 2-D space.\n",
        "\"\"\"\n",
        "w1 = np.linspace(18.0, 22.0, 100)\n",
        "w2 = np.linspace(28.0, 32.0, 100)\n",
        "W_1, W_2 = np.meshgrid(w1,w2)\n",
        "# Constant representing the radius of the (w_1, w_2) circle.\n",
        "t = 1\n",
        "# Equation representing L2 regularization.\n",
        "circle = (W_1-20)**2 + (W_2-30)**2 - t\n",
        "print(\"Plotting a circle in the of scope the specified 2-D space.\")\n",
        "plt.contour(W_1,W_2,circle,[0])\n",
        "plt.show()\n",
        "print(\"We can see the circle now that it is in the scope of the specified 2-D space.\")"
      ],
      "execution_count": 0,
      "outputs": [
        {
          "output_type": "stream",
          "text": [
            "Plotting a circle in the of scope the specified 2-D space.\n"
          ],
          "name": "stdout"
        },
        {
          "output_type": "display_data",
          "data": {
            "image/png": "[encoded data removed]",
            "text/plain": [
              "<Figure size 432x288 with 1 Axes>"
            ]
          },
          "metadata": {
            "tags": [],
            "needs_background": "light"
          }
        },
        {
          "output_type": "stream",
          "text": [
            "We can see the circle now that it is in the scope of the specified 2-D space.\n"
          ],
          "name": "stdout"
        }
      ]
    },
    {
      "cell_type": "markdown",
      "metadata": {
        "id": "mZp9qxjAlTNX",
        "colab_type": "text"
      },
      "source": [
        "# Location of Jupyter Notebook\n",
        "\n",
        "It is located at: `notes/cheat-sheets/debugging-help/debugging-plotting-scripts.ipynb`\n",
        "\n",
        "Or, see the following:\n",
        "\n",
        "    notes/cheat-sheets/debugging-help/debugging-plotting-scripts.ipynb"
      ]
    },
    {
      "cell_type": "markdown",
      "metadata": {
        "id": "qgxu8QX2djrf",
        "colab_type": "text"
      },
      "source": [
        "# Author Information\n",
        "\n",
        "The MIT License (MIT)\n",
        "\n",
        "Copyright (c) <2020> Zhiyang Ong\n",
        "\n",
        "Permission is hereby granted, free of charge, to any person obtaining a copy of this software and associated documentation files (the \"Software\"), to deal in the Software without restriction, including without limitation the rights to use, copy, modify, merge, publish, distribute, sublicense, and/or sell copies of the Software, and to permit persons to whom the Software is furnished to do so, subject to the following conditions:\n",
        "\n",
        "The above copyright notice and this permission notice shall be included in all copies or substantial portions of the Software.\n",
        "\n",
        "THE SOFTWARE IS PROVIDED \"AS IS\", WITHOUT WARRANTY OF ANY KIND, EXPRESS OR IMPLIED, INCLUDING BUT NOT LIMITED TO THE WARRANTIES OF MERCHANTABILITY, FITNESS FOR A PARTICULAR PURPOSE AND NONINFRINGEMENT. IN NO EVENT SHALL THE AUTHORS OR COPYRIGHT HOLDERS BE LIABLE FOR ANY CLAIM, DAMAGES OR OTHER LIABILITY, WHETHER IN AN ACTION OF CONTRACT, TORT OR OTHERWISE, ARISING FROM, OUT OF OR IN CONNECTION WITH THE SOFTWARE OR THE USE OR OTHER DEALINGS IN THE SOFTWARE.\n",
        "\n",
        "Email address: `echo \"cukj -wb- 23wU4X5M589 TROJANS cqkH wiuz2y 0f Mw Stanford\" | awk '{ sub(\"23wU4X5M589\",\"F.d_c_b. \") sub(\"Stanford\",\"d0mA1n\"); print $5, $2, $8; for (i=1; i<=1; i++) print \"6\\b\"; print $9, $7, $6 }' | sed y/kqcbuHwM62z/gnotrzadqmC/ | tr 'q' ' ' | tr -d [:cntrl:] | tr -d 'ir' | tr y \"\\n\"\tChe cosa significa?`\n",
        "\n",
        "Or, you can copy and past the following into the command line of the \"Terminal\" application of a *UNIX*-like operating system.\n",
        "\n",
        "    echo \"cukj -wb- 23wU4X5M589 TROJANS cqkH wiuz2y 0f Mw Stanford\" | awk '{ sub(\"23wU4X5M589\",\"F.d_c_b. \") sub(\"Stanford\",\"d0mA1n\"); print $5, $2, $8; for (i=1; i<=1; i++) print \"6\\b\"; print $9, $7, $6 }' | sed y/kqcbuHwM62z/gnotrzadqmC/ | tr 'q' ' ' | tr -d [:cntrl:] | tr -d 'ir' | tr y \"\\n\"\tChe cosa significa?"
      ]
    }
  ]
}