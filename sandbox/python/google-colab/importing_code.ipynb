{
  "nbformat": 4,
  "nbformat_minor": 0,
  "metadata": {
    "colab": {
      "name": "importing-code.ipynb",
      "provenance": [],
      "collapsed_sections": [],
      "include_colab_link": true
    },
    "kernelspec": {
      "name": "python3",
      "display_name": "Python 3"
    }
  },
  "cells": [
    {
      "cell_type": "markdown",
      "metadata": {
        "id": "view-in-github",
        "colab_type": "text"
      },
      "source": [
        "<a href=\"https://colab.research.google.com/github/eda-ricercatore/gulyas-scripts/blob/master/sandbox/python/google-colab/importing_code.ipynb\" target=\"_parent\"><img src=\"https://colab.research.google.com/assets/colab-badge.svg\" alt=\"Open In Colab\"/></a>"
      ]
    },
    {
      "cell_type": "code",
      "metadata": {
        "id": "AWPy7OpEw0eI",
        "colab_type": "code",
        "colab": {
          "base_uri": "https://localhost:8080/",
          "height": 534
        },
        "outputId": "4f137472-0348-4ce8-b138-3436986d0120"
      },
      "source": [
        "from google.colab import drive\n",
        "drive.mount('/content/drive')\n",
        "%ls -al /content/drive/My\\ Drive/Colab\\ Notebooks\n",
        "%cd /content/drive/My\\ Drive/Colab\\ Notebooks\n",
        "%ls -al\n"
      ],
      "execution_count": 1,
      "outputs": [
        {
          "output_type": "stream",
          "text": [
            "Go to this URL in a browser: https://accounts.google.com/o/oauth2/auth?client_id=947318989803-6bn6qk8qdgf4n4g3pfee6491hc0brc4i.apps.googleusercontent.com&redirect_uri=urn%3aietf%3awg%3aoauth%3a2.0%3aoob&response_type=code&scope=email%20https%3a%2f%2fwww.googleapis.com%2fauth%2fdocs.test%20https%3a%2f%2fwww.googleapis.com%2fauth%2fdrive%20https%3a%2f%2fwww.googleapis.com%2fauth%2fdrive.photos.readonly%20https%3a%2f%2fwww.googleapis.com%2fauth%2fpeopleapi.readonly\n",
            "\n",
            "Enter your authorization code:\n",
            "··········\n",
            "Mounted at /content/drive\n",
            "total 134\n",
            "-rw------- 1 root root 27327 Nov 22 22:22 '3-&-6-bit-adders.ipynb'\n",
            "-rw------- 1 root root 10694 Oct 30 15:45  3-bit-adders.ipynb\n",
            "-rw------- 1 root root 14479 Oct  9 02:40 '4-&-8-bit-adders.ipynb'\n",
            "-rw------- 1 root root 28991 Sep 25 14:43  adder-alternate-representation.ipynb\n",
            "-rw------- 1 root root 17895 Oct  9 02:28  adder.ipynb\n",
            "-rw------- 1 root root 17977 Oct  9 02:27 'Copy of adder.ipynb'\n",
            "-rw------- 1 root root  1829 May 25  2019  Dorsa-Sadigh-wannabes.ipynb\n",
            "-rw------- 1 root root 13333 Dec  2 22:36  extract-keywords.ipynb\n",
            "-rw------- 1 root root   512 Dec  2 22:39  importing-code.ipynb\n",
            "-rw------- 1 root root  1781 Oct 10 15:33  qn4-logical-effort.ipynb\n",
            "/content/drive/My Drive/Colab Notebooks\n",
            "total 134\n",
            "-rw------- 1 root root 27327 Nov 22 22:22 '3-&-6-bit-adders.ipynb'\n",
            "-rw------- 1 root root 10694 Oct 30 15:45  3-bit-adders.ipynb\n",
            "-rw------- 1 root root 14479 Oct  9 02:40 '4-&-8-bit-adders.ipynb'\n",
            "-rw------- 1 root root 28991 Sep 25 14:43  adder-alternate-representation.ipynb\n",
            "-rw------- 1 root root 17895 Oct  9 02:28  adder.ipynb\n",
            "-rw------- 1 root root 17977 Oct  9 02:27 'Copy of adder.ipynb'\n",
            "-rw------- 1 root root  1829 May 25  2019  Dorsa-Sadigh-wannabes.ipynb\n",
            "-rw------- 1 root root 13333 Dec  2 22:36  extract-keywords.ipynb\n",
            "-rw------- 1 root root   512 Dec  2 22:39  importing-code.ipynb\n",
            "-rw------- 1 root root  1781 Oct 10 15:33  qn4-logical-effort.ipynb\n"
          ],
          "name": "stdout"
        }
      ]
    }
  ]
}